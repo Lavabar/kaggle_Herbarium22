{
  "metadata": {
    "kernelspec": {
      "language": "python",
      "display_name": "Python 3",
      "name": "python3"
    },
    "language_info": {
      "name": "python",
      "version": "3.7.12",
      "mimetype": "text/x-python",
      "codemirror_mode": {
        "name": "ipython",
        "version": 3
      },
      "pygments_lexer": "ipython3",
      "nbconvert_exporter": "python",
      "file_extension": ".py"
    },
    "colab": {
      "name": "herbarium22_split_family.ipynb",
      "provenance": [],
      "collapsed_sections": []
    }
  },
  "nbformat_minor": 0,
  "nbformat": 4,
  "cells": [
    {
      "cell_type": "code",
      "source": [
        "# !unzip ./train_metadata.json.zip"
      ],
      "metadata": {
        "id": "KrvMQMnZZCaB",
        "colab": {
          "base_uri": "https://localhost:8080/"
        },
        "outputId": "6846a4b9-ec37-40bc-fe7e-da3e9837dd17"
      },
      "execution_count": 2,
      "outputs": [
        {
          "output_type": "stream",
          "name": "stdout",
          "text": [
            "Archive:  ./train_metadata.json.zip\n",
            "  inflating: train_metadata.json     \n",
            "  inflating: __MACOSX/._train_metadata.json  \n"
          ]
        }
      ]
    },
    {
      "cell_type": "code",
      "source": [
        "# from google.colab import drive\n",
        "\n",
        "# drive.mount('/content/drive')"
      ],
      "metadata": {
        "id": "dOsN-s4Vm56h"
      },
      "execution_count": 3,
      "outputs": []
    },
    {
      "cell_type": "code",
      "source": [
        "import numpy as np # linear algebra\n",
        "import pandas as pd # data processing, CSV file I/O (e.g. pd.read_csv)\n",
        "\n",
        "import os\n",
        "import json\n",
        "\n",
        "from sklearn.model_selection import train_test_split"
      ],
      "metadata": {
        "_uuid": "8f2839f25d086af736a60e9eeb907d3b93b6e0e5",
        "_cell_guid": "b1076dfc-b9ad-4769-8c92-a6c4dae69d19",
        "execution": {
          "iopub.status.busy": "2022-04-07T14:09:01.174025Z",
          "iopub.execute_input": "2022-04-07T14:09:01.174315Z",
          "iopub.status.idle": "2022-04-07T14:09:01.179570Z",
          "shell.execute_reply.started": "2022-04-07T14:09:01.174285Z",
          "shell.execute_reply": "2022-04-07T14:09:01.178629Z"
        },
        "trusted": true,
        "id": "Bh5tnwh4YYHm"
      },
      "execution_count": 18,
      "outputs": []
    },
    {
      "cell_type": "code",
      "source": [
        "#with open('../input/herbarium-2022-fgvc9/train_metadata.json', 'rb') as f:\n",
        "with open('./train_metadata.json', 'rb') as f:\n",
        "    train_meta = json.load(f)"
      ],
      "metadata": {
        "execution": {
          "iopub.status.busy": "2022-04-07T14:10:28.741861Z",
          "iopub.execute_input": "2022-04-07T14:10:28.742161Z",
          "iopub.status.idle": "2022-04-07T14:10:35.960837Z",
          "shell.execute_reply.started": "2022-04-07T14:10:28.742133Z",
          "shell.execute_reply": "2022-04-07T14:10:35.960056Z"
        },
        "trusted": true,
        "id": "4Ux4aLAzYYHo"
      },
      "execution_count": 19,
      "outputs": []
    },
    {
      "cell_type": "code",
      "source": [
        "df = pd.DataFrame(train_meta['categories'])"
      ],
      "metadata": {
        "execution": {
          "iopub.status.busy": "2022-04-07T14:10:35.962170Z",
          "iopub.execute_input": "2022-04-07T14:10:35.962438Z",
          "iopub.status.idle": "2022-04-07T14:10:36.009174Z",
          "shell.execute_reply.started": "2022-04-07T14:10:35.962411Z",
          "shell.execute_reply": "2022-04-07T14:10:36.008313Z"
        },
        "trusted": true,
        "id": "hESFx_TrYYHq"
      },
      "execution_count": 20,
      "outputs": []
    },
    {
      "cell_type": "code",
      "source": [
        "maps = list(enumerate(df['family'].unique()))\n",
        "maps = {k: v for (v,k) in maps}\n",
        "df['family_id'] = df['family'].map(maps)"
      ],
      "metadata": {
        "execution": {
          "iopub.status.busy": "2022-04-07T14:12:27.872517Z",
          "iopub.execute_input": "2022-04-07T14:12:27.873394Z",
          "iopub.status.idle": "2022-04-07T14:12:27.891138Z",
          "shell.execute_reply.started": "2022-04-07T14:12:27.873349Z",
          "shell.execute_reply": "2022-04-07T14:12:27.890268Z"
        },
        "trusted": true,
        "id": "ePEuI9udYYHs"
      },
      "execution_count": 21,
      "outputs": []
    },
    {
      "cell_type": "code",
      "source": [
        "cat_fam = df[['category_id', 'family_id']]\n",
        "cat_fam['family_id'] = cat_fam['family_id'].astype(int)"
      ],
      "metadata": {
        "id": "CZntsjGNaiV4",
        "colab": {
          "base_uri": "https://localhost:8080/"
        },
        "outputId": "87c8c25c-f599-4300-d551-8ea70c23eadf"
      },
      "execution_count": 22,
      "outputs": [
        {
          "output_type": "stream",
          "name": "stderr",
          "text": [
            "/usr/local/lib/python3.7/dist-packages/ipykernel_launcher.py:2: SettingWithCopyWarning: \n",
            "A value is trying to be set on a copy of a slice from a DataFrame.\n",
            "Try using .loc[row_indexer,col_indexer] = value instead\n",
            "\n",
            "See the caveats in the documentation: https://pandas.pydata.org/pandas-docs/stable/user_guide/indexing.html#returning-a-view-versus-a-copy\n",
            "  \n"
          ]
        }
      ]
    },
    {
      "cell_type": "code",
      "source": [
        "df = pd.DataFrame(train_meta['annotations'])\n",
        "df = df[['category_id', 'image_id']]\n",
        "\n",
        "images = pd.DataFrame(train_meta['images'])\n",
        "\n",
        "dataset1 = df.merge(cat_fam, on='category_id', how='left').merge(images, on='image_id', how='left')\n",
        "dataset1 = dataset1[['file_name', 'category_id', 'family_id']]"
      ],
      "metadata": {
        "id": "-06HZxuqZ9Kc"
      },
      "execution_count": 23,
      "outputs": []
    },
    {
      "cell_type": "code",
      "source": [
        "dataset_path = '/content/dataset_fsplit/'\n",
        "os.mkdir(dataset_path)\n",
        "\n",
        "grouped = dataset1.groupby('family_id')\n",
        "\n",
        "for name, group in grouped:\n",
        "    subgroups = group.groupby('category_id')\n",
        "    if subgroups.ngroups > 1:\n",
        "        os.mkdir(dataset_path + str(name))\n",
        "        train_X, validation_X, train_Y, validation_Y = train_test_split(group['file_name'], group['category_id'], test_size=0.05, stratify=group['category_id'], random_state=0)\n",
        "\n",
        "        train_X.to_csv(f'{dataset_path}{name}/train_X.csv')\n",
        "        validation_X.to_csv(f'{dataset_path}{name}/valid_X.csv')\n",
        "        train_Y.to_csv(f'{dataset_path}{name}/train_Y.csv')\n",
        "        validation_Y.to_csv(f'{dataset_path}{name}/valid_Y.csv')\n",
        "    else:\n",
        "        continue"
      ],
      "metadata": {
        "id": "qkNEoFmps1VW"
      },
      "execution_count": 24,
      "outputs": []
    },
    {
      "cell_type": "code",
      "source": [
        "!zip -r -9 dataset_fsplit.zip ./dataset_fsplit"
      ],
      "metadata": {
        "id": "QOEiG7Luyw6z"
      },
      "execution_count": null,
      "outputs": []
    },
    {
      "cell_type": "markdown",
      "source": [
        "Export to csv"
      ],
      "metadata": {
        "id": "2s49tfY1s2v-"
      }
    },
    {
      "cell_type": "code",
      "source": [
        "!cp dataset_fsplit.zip /content/drive/MyDrive/kaggle_Herbarium22/"
      ],
      "metadata": {
        "id": "dZXXfQ8_gZ8k"
      },
      "execution_count": 26,
      "outputs": []
    }
  ]
}